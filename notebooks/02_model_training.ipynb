{
 "cells": [
  {
   "cell_type": "markdown",
   "metadata": {},
   "source": [
    "# House Price Prediction - MODEL TRAINING"
   ]
  },
  {
   "cell_type": "code",
   "execution_count": null,
   "metadata": {
    "tags": []
   },
   "outputs": [],
   "source": [
    "####################\n",
    "# IMPORT LIBRARIES\n",
    "####################\n",
    "\n",
    "import os\n",
    "import pandas as pd\n",
    "import numpy as np\n",
    "import matplotlib.pyplot as plt\n",
    "import seaborn as sns\n",
    "\n",
    "from sklearn.model_selection import train_test_split\n",
    "from sklearn.preprocessing import StandardScaler, OneHotEncoder\n",
    "from sklearn.impute import SimpleImputer\n",
    "from sklearn.compose import ColumnTransformer\n",
    "from sklearn.pipeline import Pipeline\n",
    "from sklearn.linear_model import LinearRegression, Ridge, ElasticNet\n",
    "from sklearn.metrics import mean_squared_error, r2_score, mean_absolute_error\n",
    "\n",
    "import mlflow\n",
    "import mlflow.sklearn\n",
    "from urllib.parse import urlparse\n",
    "\n",
    "%matplotlib inline\n",
    "sns.set(style=\"whitegrid\")\n",
    "\n",
    "import warnings\n",
    "warnings.filterwarnings(\"ignore\")"
   ]
  },
  {
   "cell_type": "code",
   "execution_count": null,
   "metadata": {
    "tags": []
   },
   "outputs": [],
   "source": [
    "import sys\n",
    "from pathlib import Path\n",
    "from dotenv import load_dotenv\n",
    "\n",
    "project_root =  Path('/home/jovyan/work/housing-mlops')\n",
    "scripts_dir = project_root / 'scripts'\n",
    "load_dotenv(project_root / '.env')\n",
    "\n",
    "sys.path.insert(0, str(project_root))\n",
    "sys.path.insert(0, str(scripts_dir))\n",
    "\n",
    "from scripts.s3_utils import *\n",
    "\n",
    "create_bucket(os.getenv('S3_MLFLOW_BUCKET'))\n",
    "\n",
    "mlflow.set_tracking_uri(os.getenv('MLFLOW_TRACKING_URI'))\n",
    "mlflow.set_experiment(os.getenv('PROJECT_NAME', 'HousingPricePrediction'))"
   ]
  },
  {
   "cell_type": "code",
   "execution_count": null,
   "metadata": {
    "tags": []
   },
   "outputs": [],
   "source": [
    "############\n",
    "# READ DATA\n",
    "############\n",
    "\n",
    "df = pd.read_csv('/home/jovyan/work/housing-mlops/data/housing.csv')\n",
    "print(\"Data shape:\", df.shape)\n",
    "df.head()"
   ]
  },
  {
   "cell_type": "code",
   "execution_count": null,
   "metadata": {
    "tags": []
   },
   "outputs": [],
   "source": [
    "#######################\n",
    "# CHECK MISSING VALUES\n",
    "#######################\n",
    "\n",
    "print(\"Missing Values:\")\n",
    "print(df.isnull().sum())"
   ]
  },
  {
   "cell_type": "code",
   "execution_count": null,
   "metadata": {
    "tags": []
   },
   "outputs": [],
   "source": [
    "###################\n",
    "# DATA PREPARATION\n",
    "###################\n",
    "\n",
    "median_bedrooms = df['total_bedrooms'].median()\n",
    "df['total_bedrooms'].fillna(median_bedrooms, inplace=True)\n",
    "\n",
    "X = df.drop(['median_house_value'], axis=1)\n",
    "y = df['median_house_value']\n",
    "\n",
    "categorical_features = ['ocean_proximity']\n",
    "numerical_features = [col for col in X.columns if col not in categorical_features]\n",
    "\n",
    "X_train, X_test, y_train, y_test = train_test_split(X, y, test_size=0.2, random_state=42)"
   ]
  },
  {
   "cell_type": "code",
   "execution_count": null,
   "metadata": {
    "tags": []
   },
   "outputs": [],
   "source": [
    "####################\n",
    "# EVAULATION METRICS\n",
    "####################\n",
    "\n",
    "def eval_metrics(actual, pred):\n",
    "    rmse = np.sqrt(mean_squared_error(actual, pred))\n",
    "    mae = mean_absolute_error(actual, pred)\n",
    "    r2 = r2_score(actual, pred)\n",
    "    return rmse, mae, r2"
   ]
  },
  {
   "cell_type": "code",
   "execution_count": null,
   "metadata": {
    "tags": []
   },
   "outputs": [],
   "source": [
    "#########################\n",
    "# PREPROCESSING PIPELINE\n",
    "#########################\n",
    "\n",
    "numerical_transformer = Pipeline(steps=[\n",
    "    ('imputer', SimpleImputer(strategy='median')),\n",
    "    ('scaler', StandardScaler())])\n",
    "\n",
    "categorical_transformer = Pipeline(steps=[\n",
    "    ('imputer', SimpleImputer(strategy='most_frequent')),\n",
    "    ('onehot', OneHotEncoder(handle_unknown='ignore'))])\n",
    "\n",
    "preprocessor = ColumnTransformer(\n",
    "    transformers=[\n",
    "        ('num', numerical_transformer, numerical_features),\n",
    "        ('cat', categorical_transformer, categorical_features)])"
   ]
  },
  {
   "cell_type": "code",
   "execution_count": null,
   "metadata": {
    "tags": []
   },
   "outputs": [],
   "source": [
    "#############################\n",
    "# MODEL 1: LINEAR REGRESSION\n",
    "#############################\n",
    "\n",
    "with mlflow.start_run(run_name=\"LinearRegression\"):\n",
    "    # Model pipeline\n",
    "    model_pipeline = Pipeline(steps=[\n",
    "        ('preprocessor', preprocessor),\n",
    "        ('regressor', LinearRegression())])\n",
    "    \n",
    "    # Model train\n",
    "    model_pipeline.fit(X_train, y_train)\n",
    "    \n",
    "    # Test set prediction\n",
    "    y_pred = model_pipeline.predict(X_test)\n",
    "    \n",
    "    # Metric\n",
    "    rmse, mae, r2 = eval_metrics(y_test, y_pred)\n",
    "    \n",
    "    # MLflow params\n",
    "    mlflow.log_param(\"model_type\", \"LinearRegression\")\n",
    "    mlflow.log_metric(\"rmse\", rmse)\n",
    "    mlflow.log_metric(\"mae\", mae)\n",
    "    mlflow.log_metric(\"r2\", r2)\n",
    "    \n",
    "    # Model save\n",
    "    tracking_url_type_store = urlparse(mlflow.get_tracking_uri()).scheme\n",
    "    if tracking_url_type_store != \"file\":\n",
    "        mlflow.sklearn.log_model(model_pipeline, \"linear_regression_model\")\n",
    "    else:\n",
    "        mlflow.sklearn.log_model(model_pipeline, \"linear_regression_model\")\n",
    "    \n",
    "    print(f\"Linear Regression - RMSE: {rmse}, MAE: {mae}, R2: {r2}\")"
   ]
  },
  {
   "cell_type": "code",
   "execution_count": null,
   "metadata": {
    "tags": []
   },
   "outputs": [],
   "source": [
    "##########################\n",
    "# MODEL 2: RIDGE REGRESSION\n",
    "##########################\n",
    "\n",
    "with mlflow.start_run(run_name=\"RidgeRegression\"):\n",
    "    # Hiperparams\n",
    "    alpha = 1.0\n",
    "    \n",
    "    # Model pipeline\n",
    "    model_pipeline = Pipeline(steps=[\n",
    "        ('preprocessor', preprocessor),\n",
    "        ('regressor', Ridge(alpha=alpha))])\n",
    "    \n",
    "    # Model train\n",
    "    model_pipeline.fit(X_train, y_train)\n",
    "    \n",
    "    # Test set prediction\n",
    "    y_pred = model_pipeline.predict(X_test)\n",
    "    \n",
    "    # Metrics\n",
    "    rmse, mae, r2 = eval_metrics(y_test, y_pred)\n",
    "    \n",
    "    # MLflow params\n",
    "    mlflow.log_param(\"model_type\", \"RidgeRegression\")\n",
    "    mlflow.log_param(\"alpha\", alpha)\n",
    "    mlflow.log_metric(\"rmse\", rmse)\n",
    "    mlflow.log_metric(\"mae\", mae)\n",
    "    mlflow.log_metric(\"r2\", r2)\n",
    "    \n",
    "    # Model save\n",
    "    mlflow.sklearn.log_model(model_pipeline, \"ridge_model\")\n",
    "    \n",
    "    print(f\"Ridge Regression - RMSE: {rmse}, MAE: {mae}, R2: {r2}\")"
   ]
  },
  {
   "cell_type": "code",
   "execution_count": null,
   "metadata": {
    "tags": []
   },
   "outputs": [],
   "source": [
    "####################\n",
    "# MODEL 3: ELASTICNET\n",
    "####################\n",
    "\n",
    "with mlflow.start_run(run_name=\"ElasticNet\"):\n",
    "    # Hiperparams\n",
    "    alpha = 0.5\n",
    "    l1_ratio = 0.5\n",
    "    \n",
    "    # Model pipeline \n",
    "    model_pipeline = Pipeline(steps=[\n",
    "        ('preprocessor', preprocessor),\n",
    "        ('regressor', ElasticNet(alpha=alpha, l1_ratio=l1_ratio, random_state=42))])\n",
    "    \n",
    "    # Model train\n",
    "    model_pipeline.fit(X_train, y_train)\n",
    "    \n",
    "    # Test set pred\n",
    "    y_pred = model_pipeline.predict(X_test)\n",
    "    \n",
    "    # Metrics\n",
    "    rmse, mae, r2 = eval_metrics(y_test, y_pred)\n",
    "    \n",
    "    # MLflow params\n",
    "    mlflow.log_param(\"model_type\", \"ElasticNet\")\n",
    "    mlflow.log_param(\"alpha\", alpha)\n",
    "    mlflow.log_param(\"l1_ratio\", l1_ratio)\n",
    "    mlflow.log_metric(\"rmse\", rmse)\n",
    "    mlflow.log_metric(\"mae\", mae)\n",
    "    mlflow.log_metric(\"r2\", r2)\n",
    "    \n",
    "    # Model save\n",
    "    mlflow.sklearn.log_model(model_pipeline, \"elasticnet_model\", \n",
    "                           registered_model_name=\"HousingPricePredictor\")\n",
    "    \n",
    "    print(f\"ElasticNet - RMSE: {rmse}, MAE: {mae}, R2: {r2}\")"
   ]
  }
 ],
 "metadata": {
  "kernelspec": {
   "display_name": "Python 3 (ipykernel)",
   "language": "python",
   "name": "python3"
  },
  "language_info": {
   "codemirror_mode": {
    "name": "ipython",
    "version": 3
   },
   "file_extension": ".py",
   "mimetype": "text/x-python",
   "name": "python",
   "nbconvert_exporter": "python",
   "pygments_lexer": "ipython3",
   "version": "3.11.6"
  }
 },
 "nbformat": 4,
 "nbformat_minor": 4
}
